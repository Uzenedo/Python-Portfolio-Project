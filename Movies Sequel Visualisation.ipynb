{
 "cells": [
  {
   "cell_type": "markdown",
   "id": "577d8a92",
   "metadata": {},
   "source": [
    "# Importation and Structure of the Movie Sequel Dataset"
   ]
  },
  {
   "cell_type": "code",
   "execution_count": 1,
   "id": "9178fd1a",
   "metadata": {},
   "outputs": [],
   "source": [
    "import pandas as pd\n",
    "import matplotlib.pyplot as plt\n",
    "\n",
    "movies = pd.read_excel(\"Movies sequel across genres.xlsx\")"
   ]
  },
  {
   "cell_type": "code",
   "execution_count": 3,
   "id": "bda3ae10",
   "metadata": {},
   "outputs": [
    {
     "data": {
      "text/html": [
       "<div>\n",
       "<style scoped>\n",
       "    .dataframe tbody tr th:only-of-type {\n",
       "        vertical-align: middle;\n",
       "    }\n",
       "\n",
       "    .dataframe tbody tr th {\n",
       "        vertical-align: top;\n",
       "    }\n",
       "\n",
       "    .dataframe thead th {\n",
       "        text-align: right;\n",
       "    }\n",
       "</style>\n",
       "<table border=\"1\" class=\"dataframe\">\n",
       "  <thead>\n",
       "    <tr style=\"text-align: right;\">\n",
       "      <th></th>\n",
       "      <th>index</th>\n",
       "      <th>Title</th>\n",
       "      <th>Release Date</th>\n",
       "      <th>Year</th>\n",
       "      <th>URL</th>\n",
       "      <th>IMDb Rating</th>\n",
       "      <th>Runtime (mins)</th>\n",
       "      <th>Genres</th>\n",
       "      <th>Num Votes</th>\n",
       "      <th>Directors</th>\n",
       "      <th>Movie Series</th>\n",
       "    </tr>\n",
       "  </thead>\n",
       "  <tbody>\n",
       "    <tr>\n",
       "      <th>0</th>\n",
       "      <td>1</td>\n",
       "      <td>101 Dalmatians</td>\n",
       "      <td>18-11-1996</td>\n",
       "      <td>1996</td>\n",
       "      <td>https://www.imdb.com/title/tt0115433/</td>\n",
       "      <td>5.7</td>\n",
       "      <td>103</td>\n",
       "      <td>Adventure, Comedy, Crime, Family</td>\n",
       "      <td>98439</td>\n",
       "      <td>Stephen Herek</td>\n",
       "      <td>101 Dalmatians</td>\n",
       "    </tr>\n",
       "    <tr>\n",
       "      <th>1</th>\n",
       "      <td>2</td>\n",
       "      <td>102 Dalmatians</td>\n",
       "      <td>22-11-2000</td>\n",
       "      <td>2000</td>\n",
       "      <td>https://www.imdb.com/title/tt0211181/</td>\n",
       "      <td>4.9</td>\n",
       "      <td>100</td>\n",
       "      <td>Adventure, Comedy, Family</td>\n",
       "      <td>33823</td>\n",
       "      <td>Kevin Lima</td>\n",
       "      <td>101 Dalmatians</td>\n",
       "    </tr>\n",
       "    <tr>\n",
       "      <th>2</th>\n",
       "      <td>3</td>\n",
       "      <td>12 Rounds</td>\n",
       "      <td>19-03-2009</td>\n",
       "      <td>2009</td>\n",
       "      <td>https://www.imdb.com/title/tt1160368/</td>\n",
       "      <td>5.6</td>\n",
       "      <td>108</td>\n",
       "      <td>Action, Crime, Thriller</td>\n",
       "      <td>26828</td>\n",
       "      <td>Renny Harlin</td>\n",
       "      <td>12 Rounds</td>\n",
       "    </tr>\n",
       "    <tr>\n",
       "      <th>3</th>\n",
       "      <td>4</td>\n",
       "      <td>12 Rounds 2: Reloaded</td>\n",
       "      <td>2013-04-06 00:00:00</td>\n",
       "      <td>2013</td>\n",
       "      <td>https://www.imdb.com/title/tt2317524/</td>\n",
       "      <td>5.3</td>\n",
       "      <td>95</td>\n",
       "      <td>Action, Adventure, Thriller</td>\n",
       "      <td>5141</td>\n",
       "      <td>Roel ReinÃ©</td>\n",
       "      <td>12 Rounds</td>\n",
       "    </tr>\n",
       "    <tr>\n",
       "      <th>4</th>\n",
       "      <td>5</td>\n",
       "      <td>21 Jump Street</td>\n",
       "      <td>2012-12-03 00:00:00</td>\n",
       "      <td>2012</td>\n",
       "      <td>https://www.imdb.com/title/tt1232829/</td>\n",
       "      <td>7.2</td>\n",
       "      <td>109</td>\n",
       "      <td>Action, Comedy, Crime</td>\n",
       "      <td>498876</td>\n",
       "      <td>Christopher Miller, Phil Lord</td>\n",
       "      <td>21 Jump Street</td>\n",
       "    </tr>\n",
       "  </tbody>\n",
       "</table>\n",
       "</div>"
      ],
      "text/plain": [
       "   index                  Title         Release Date  Year  \\\n",
       "0      1         101 Dalmatians           18-11-1996  1996   \n",
       "1      2         102 Dalmatians           22-11-2000  2000   \n",
       "2      3              12 Rounds           19-03-2009  2009   \n",
       "3      4  12 Rounds 2: Reloaded  2013-04-06 00:00:00  2013   \n",
       "4      5         21 Jump Street  2012-12-03 00:00:00  2012   \n",
       "\n",
       "                                     URL  IMDb Rating  Runtime (mins)  \\\n",
       "0  https://www.imdb.com/title/tt0115433/          5.7             103   \n",
       "1  https://www.imdb.com/title/tt0211181/          4.9             100   \n",
       "2  https://www.imdb.com/title/tt1160368/          5.6             108   \n",
       "3  https://www.imdb.com/title/tt2317524/          5.3              95   \n",
       "4  https://www.imdb.com/title/tt1232829/          7.2             109   \n",
       "\n",
       "                             Genres  Num Votes                      Directors  \\\n",
       "0  Adventure, Comedy, Crime, Family      98439                  Stephen Herek   \n",
       "1         Adventure, Comedy, Family      33823                     Kevin Lima   \n",
       "2           Action, Crime, Thriller      26828                   Renny Harlin   \n",
       "3       Action, Adventure, Thriller       5141                    Roel ReinÃ©   \n",
       "4             Action, Comedy, Crime     498876  Christopher Miller, Phil Lord   \n",
       "\n",
       "     Movie Series  \n",
       "0  101 Dalmatians  \n",
       "1  101 Dalmatians  \n",
       "2       12 Rounds  \n",
       "3       12 Rounds  \n",
       "4  21 Jump Street  "
      ]
     },
     "execution_count": 3,
     "metadata": {},
     "output_type": "execute_result"
    }
   ],
   "source": [
    "movies.head()"
   ]
  },
  {
   "cell_type": "code",
   "execution_count": 4,
   "id": "80d0167d",
   "metadata": {
    "scrolled": true
   },
   "outputs": [
    {
     "name": "stdout",
     "output_type": "stream",
     "text": [
      "<class 'pandas.core.frame.DataFrame'>\n",
      "RangeIndex: 847 entries, 0 to 846\n",
      "Data columns (total 11 columns):\n",
      " #   Column          Non-Null Count  Dtype  \n",
      "---  ------          --------------  -----  \n",
      " 0   index           847 non-null    int64  \n",
      " 1   Title           847 non-null    object \n",
      " 2   Release Date    847 non-null    object \n",
      " 3   Year            847 non-null    int64  \n",
      " 4   URL             847 non-null    object \n",
      " 5   IMDb Rating     847 non-null    float64\n",
      " 6   Runtime (mins)  847 non-null    int64  \n",
      " 7   Genres          847 non-null    object \n",
      " 8   Num Votes       847 non-null    int64  \n",
      " 9   Directors       847 non-null    object \n",
      " 10  Movie Series    847 non-null    object \n",
      "dtypes: float64(1), int64(4), object(6)\n",
      "memory usage: 72.9+ KB\n"
     ]
    }
   ],
   "source": [
    "movies.info()"
   ]
  },
  {
   "cell_type": "code",
   "execution_count": 5,
   "id": "94a1b24e",
   "metadata": {},
   "outputs": [
    {
     "data": {
      "text/html": [
       "<div>\n",
       "<style scoped>\n",
       "    .dataframe tbody tr th:only-of-type {\n",
       "        vertical-align: middle;\n",
       "    }\n",
       "\n",
       "    .dataframe tbody tr th {\n",
       "        vertical-align: top;\n",
       "    }\n",
       "\n",
       "    .dataframe thead th {\n",
       "        text-align: right;\n",
       "    }\n",
       "</style>\n",
       "<table border=\"1\" class=\"dataframe\">\n",
       "  <thead>\n",
       "    <tr style=\"text-align: right;\">\n",
       "      <th></th>\n",
       "      <th>index</th>\n",
       "      <th>Year</th>\n",
       "      <th>IMDb Rating</th>\n",
       "      <th>Runtime (mins)</th>\n",
       "      <th>Num Votes</th>\n",
       "    </tr>\n",
       "  </thead>\n",
       "  <tbody>\n",
       "    <tr>\n",
       "      <th>count</th>\n",
       "      <td>847.000000</td>\n",
       "      <td>847.000000</td>\n",
       "      <td>847.000000</td>\n",
       "      <td>847.000000</td>\n",
       "      <td>8.470000e+02</td>\n",
       "    </tr>\n",
       "    <tr>\n",
       "      <th>mean</th>\n",
       "      <td>424.000000</td>\n",
       "      <td>2001.775679</td>\n",
       "      <td>6.375089</td>\n",
       "      <td>107.295159</td>\n",
       "      <td>2.126588e+05</td>\n",
       "    </tr>\n",
       "    <tr>\n",
       "      <th>std</th>\n",
       "      <td>244.652134</td>\n",
       "      <td>11.703154</td>\n",
       "      <td>1.130652</td>\n",
       "      <td>18.816402</td>\n",
       "      <td>2.543826e+05</td>\n",
       "    </tr>\n",
       "    <tr>\n",
       "      <th>min</th>\n",
       "      <td>1.000000</td>\n",
       "      <td>1942.000000</td>\n",
       "      <td>2.000000</td>\n",
       "      <td>70.000000</td>\n",
       "      <td>8.240000e+02</td>\n",
       "    </tr>\n",
       "    <tr>\n",
       "      <th>25%</th>\n",
       "      <td>212.500000</td>\n",
       "      <td>1994.000000</td>\n",
       "      <td>5.700000</td>\n",
       "      <td>94.000000</td>\n",
       "      <td>4.870850e+04</td>\n",
       "    </tr>\n",
       "    <tr>\n",
       "      <th>50%</th>\n",
       "      <td>424.000000</td>\n",
       "      <td>2004.000000</td>\n",
       "      <td>6.500000</td>\n",
       "      <td>104.000000</td>\n",
       "      <td>1.209190e+05</td>\n",
       "    </tr>\n",
       "    <tr>\n",
       "      <th>75%</th>\n",
       "      <td>635.500000</td>\n",
       "      <td>2011.000000</td>\n",
       "      <td>7.200000</td>\n",
       "      <td>118.000000</td>\n",
       "      <td>2.710940e+05</td>\n",
       "    </tr>\n",
       "    <tr>\n",
       "      <th>max</th>\n",
       "      <td>847.000000</td>\n",
       "      <td>2020.000000</td>\n",
       "      <td>9.200000</td>\n",
       "      <td>202.000000</td>\n",
       "      <td>2.220190e+06</td>\n",
       "    </tr>\n",
       "  </tbody>\n",
       "</table>\n",
       "</div>"
      ],
      "text/plain": [
       "            index         Year  IMDb Rating  Runtime (mins)     Num Votes\n",
       "count  847.000000   847.000000   847.000000      847.000000  8.470000e+02\n",
       "mean   424.000000  2001.775679     6.375089      107.295159  2.126588e+05\n",
       "std    244.652134    11.703154     1.130652       18.816402  2.543826e+05\n",
       "min      1.000000  1942.000000     2.000000       70.000000  8.240000e+02\n",
       "25%    212.500000  1994.000000     5.700000       94.000000  4.870850e+04\n",
       "50%    424.000000  2004.000000     6.500000      104.000000  1.209190e+05\n",
       "75%    635.500000  2011.000000     7.200000      118.000000  2.710940e+05\n",
       "max    847.000000  2020.000000     9.200000      202.000000  2.220190e+06"
      ]
     },
     "execution_count": 5,
     "metadata": {},
     "output_type": "execute_result"
    }
   ],
   "source": [
    "movies.describe()"
   ]
  },
  {
   "cell_type": "code",
   "execution_count": 6,
   "id": "6bfdf5b9",
   "metadata": {},
   "outputs": [
    {
     "data": {
      "text/html": [
       "<div>\n",
       "<style scoped>\n",
       "    .dataframe tbody tr th:only-of-type {\n",
       "        vertical-align: middle;\n",
       "    }\n",
       "\n",
       "    .dataframe tbody tr th {\n",
       "        vertical-align: top;\n",
       "    }\n",
       "\n",
       "    .dataframe thead th {\n",
       "        text-align: right;\n",
       "    }\n",
       "</style>\n",
       "<table border=\"1\" class=\"dataframe\">\n",
       "  <thead>\n",
       "    <tr style=\"text-align: right;\">\n",
       "      <th></th>\n",
       "      <th>Title</th>\n",
       "      <th>Release Date</th>\n",
       "      <th>URL</th>\n",
       "      <th>Genres</th>\n",
       "      <th>Directors</th>\n",
       "      <th>Movie Series</th>\n",
       "    </tr>\n",
       "  </thead>\n",
       "  <tbody>\n",
       "    <tr>\n",
       "      <th>count</th>\n",
       "      <td>847</td>\n",
       "      <td>847</td>\n",
       "      <td>847</td>\n",
       "      <td>847</td>\n",
       "      <td>847</td>\n",
       "      <td>847</td>\n",
       "    </tr>\n",
       "    <tr>\n",
       "      <th>unique</th>\n",
       "      <td>838</td>\n",
       "      <td>818</td>\n",
       "      <td>847</td>\n",
       "      <td>245</td>\n",
       "      <td>508</td>\n",
       "      <td>375</td>\n",
       "    </tr>\n",
       "    <tr>\n",
       "      <th>top</th>\n",
       "      <td>Halloween</td>\n",
       "      <td>2007-12-06 00:00:00</td>\n",
       "      <td>https://www.imdb.com/title/tt0115433/</td>\n",
       "      <td>Action, Adventure, Sci-Fi</td>\n",
       "      <td>Wes Craven</td>\n",
       "      <td>Star Trek</td>\n",
       "    </tr>\n",
       "    <tr>\n",
       "      <th>freq</th>\n",
       "      <td>3</td>\n",
       "      <td>3</td>\n",
       "      <td>1</td>\n",
       "      <td>41</td>\n",
       "      <td>8</td>\n",
       "      <td>13</td>\n",
       "    </tr>\n",
       "  </tbody>\n",
       "</table>\n",
       "</div>"
      ],
      "text/plain": [
       "            Title         Release Date                                    URL  \\\n",
       "count         847                  847                                    847   \n",
       "unique        838                  818                                    847   \n",
       "top     Halloween  2007-12-06 00:00:00  https://www.imdb.com/title/tt0115433/   \n",
       "freq            3                    3                                      1   \n",
       "\n",
       "                           Genres   Directors Movie Series  \n",
       "count                         847         847          847  \n",
       "unique                        245         508          375  \n",
       "top     Action, Adventure, Sci-Fi  Wes Craven    Star Trek  \n",
       "freq                           41           8           13  "
      ]
     },
     "execution_count": 6,
     "metadata": {},
     "output_type": "execute_result"
    }
   ],
   "source": [
    "movies.describe(include=[object])"
   ]
  },
  {
   "cell_type": "markdown",
   "id": "d56812a5",
   "metadata": {},
   "source": [
    "# Data cleaning\n"
   ]
  },
  {
   "cell_type": "code",
   "execution_count": 7,
   "id": "9a1a9b77",
   "metadata": {},
   "outputs": [
    {
     "data": {
      "text/html": [
       "<div>\n",
       "<style scoped>\n",
       "    .dataframe tbody tr th:only-of-type {\n",
       "        vertical-align: middle;\n",
       "    }\n",
       "\n",
       "    .dataframe tbody tr th {\n",
       "        vertical-align: top;\n",
       "    }\n",
       "\n",
       "    .dataframe thead th {\n",
       "        text-align: right;\n",
       "    }\n",
       "</style>\n",
       "<table border=\"1\" class=\"dataframe\">\n",
       "  <thead>\n",
       "    <tr style=\"text-align: right;\">\n",
       "      <th></th>\n",
       "      <th>index</th>\n",
       "      <th>Title</th>\n",
       "      <th>Release Date</th>\n",
       "      <th>Year</th>\n",
       "      <th>URL</th>\n",
       "      <th>IMDb Rating</th>\n",
       "      <th>Runtime (mins)</th>\n",
       "      <th>Genres</th>\n",
       "      <th>Num Votes</th>\n",
       "      <th>Directors</th>\n",
       "      <th>Movie Series</th>\n",
       "    </tr>\n",
       "  </thead>\n",
       "  <tbody>\n",
       "    <tr>\n",
       "      <th>0</th>\n",
       "      <td>1</td>\n",
       "      <td>101 Dalmatians</td>\n",
       "      <td>18-11-1996</td>\n",
       "      <td>1996</td>\n",
       "      <td>https://www.imdb.com/title/tt0115433/</td>\n",
       "      <td>5.7</td>\n",
       "      <td>103</td>\n",
       "      <td>Adventure, Comedy, Crime, Family</td>\n",
       "      <td>98439</td>\n",
       "      <td>Stephen Herek</td>\n",
       "      <td>101 Dalmatians</td>\n",
       "    </tr>\n",
       "    <tr>\n",
       "      <th>1</th>\n",
       "      <td>2</td>\n",
       "      <td>102 Dalmatians</td>\n",
       "      <td>22-11-2000</td>\n",
       "      <td>2000</td>\n",
       "      <td>https://www.imdb.com/title/tt0211181/</td>\n",
       "      <td>4.9</td>\n",
       "      <td>100</td>\n",
       "      <td>Adventure, Comedy, Family</td>\n",
       "      <td>33823</td>\n",
       "      <td>Kevin Lima</td>\n",
       "      <td>101 Dalmatians</td>\n",
       "    </tr>\n",
       "    <tr>\n",
       "      <th>2</th>\n",
       "      <td>3</td>\n",
       "      <td>12 Rounds</td>\n",
       "      <td>19-03-2009</td>\n",
       "      <td>2009</td>\n",
       "      <td>https://www.imdb.com/title/tt1160368/</td>\n",
       "      <td>5.6</td>\n",
       "      <td>108</td>\n",
       "      <td>Action, Crime, Thriller</td>\n",
       "      <td>26828</td>\n",
       "      <td>Renny Harlin</td>\n",
       "      <td>12 Rounds</td>\n",
       "    </tr>\n",
       "    <tr>\n",
       "      <th>3</th>\n",
       "      <td>4</td>\n",
       "      <td>12 Rounds 2: Reloaded</td>\n",
       "      <td>2013-04-06 00:00:00</td>\n",
       "      <td>2013</td>\n",
       "      <td>https://www.imdb.com/title/tt2317524/</td>\n",
       "      <td>5.3</td>\n",
       "      <td>95</td>\n",
       "      <td>Action, Adventure, Thriller</td>\n",
       "      <td>5141</td>\n",
       "      <td>Roel ReinÃ©</td>\n",
       "      <td>12 Rounds</td>\n",
       "    </tr>\n",
       "    <tr>\n",
       "      <th>4</th>\n",
       "      <td>5</td>\n",
       "      <td>21 Jump Street</td>\n",
       "      <td>2012-12-03 00:00:00</td>\n",
       "      <td>2012</td>\n",
       "      <td>https://www.imdb.com/title/tt1232829/</td>\n",
       "      <td>7.2</td>\n",
       "      <td>109</td>\n",
       "      <td>Action, Comedy, Crime</td>\n",
       "      <td>498876</td>\n",
       "      <td>Christopher Miller, Phil Lord</td>\n",
       "      <td>21 Jump Street</td>\n",
       "    </tr>\n",
       "  </tbody>\n",
       "</table>\n",
       "</div>"
      ],
      "text/plain": [
       "   index                  Title         Release Date  Year  \\\n",
       "0      1         101 Dalmatians           18-11-1996  1996   \n",
       "1      2         102 Dalmatians           22-11-2000  2000   \n",
       "2      3              12 Rounds           19-03-2009  2009   \n",
       "3      4  12 Rounds 2: Reloaded  2013-04-06 00:00:00  2013   \n",
       "4      5         21 Jump Street  2012-12-03 00:00:00  2012   \n",
       "\n",
       "                                     URL  IMDb Rating  Runtime (mins)  \\\n",
       "0  https://www.imdb.com/title/tt0115433/          5.7             103   \n",
       "1  https://www.imdb.com/title/tt0211181/          4.9             100   \n",
       "2  https://www.imdb.com/title/tt1160368/          5.6             108   \n",
       "3  https://www.imdb.com/title/tt2317524/          5.3              95   \n",
       "4  https://www.imdb.com/title/tt1232829/          7.2             109   \n",
       "\n",
       "                             Genres  Num Votes                      Directors  \\\n",
       "0  Adventure, Comedy, Crime, Family      98439                  Stephen Herek   \n",
       "1         Adventure, Comedy, Family      33823                     Kevin Lima   \n",
       "2           Action, Crime, Thriller      26828                   Renny Harlin   \n",
       "3       Action, Adventure, Thriller       5141                    Roel ReinÃ©   \n",
       "4             Action, Comedy, Crime     498876  Christopher Miller, Phil Lord   \n",
       "\n",
       "     Movie Series  \n",
       "0  101 Dalmatians  \n",
       "1  101 Dalmatians  \n",
       "2       12 Rounds  \n",
       "3       12 Rounds  \n",
       "4  21 Jump Street  "
      ]
     },
     "execution_count": 7,
     "metadata": {},
     "output_type": "execute_result"
    }
   ],
   "source": [
    "movies.head()"
   ]
  },
  {
   "cell_type": "code",
   "execution_count": 8,
   "id": "dcaa975a",
   "metadata": {},
   "outputs": [],
   "source": [
    "# Remove the spaces between the column names and replace it with \"_\"\n",
    "\n",
    "movies.columns = [column.replace(\" \",\"_\") for column in movies.columns]"
   ]
  },
  {
   "cell_type": "code",
   "execution_count": 9,
   "id": "4ed754fc",
   "metadata": {},
   "outputs": [
    {
     "data": {
      "text/plain": [
       "Index(['index', 'Title', 'Release_Date', 'Year', 'URL', 'IMDb_Rating',\n",
       "       'Runtime_(mins)', 'Genres', 'Num_Votes', 'Directors', 'Movie_Series'],\n",
       "      dtype='object')"
      ]
     },
     "execution_count": 9,
     "metadata": {},
     "output_type": "execute_result"
    }
   ],
   "source": [
    "movies.columns"
   ]
  },
  {
   "cell_type": "code",
   "execution_count": 10,
   "id": "90645e90",
   "metadata": {},
   "outputs": [],
   "source": [
    "# Convert the column names into a uniform string or case\n",
    "\n",
    "movies.columns=map(str.title, movies.columns)"
   ]
  },
  {
   "cell_type": "code",
   "execution_count": 11,
   "id": "96181f08",
   "metadata": {},
   "outputs": [
    {
     "data": {
      "text/plain": [
       "Index(['Index', 'Title', 'Release_Date', 'Year', 'Url', 'Imdb_Rating',\n",
       "       'Runtime_(Mins)', 'Genres', 'Num_Votes', 'Directors', 'Movie_Series'],\n",
       "      dtype='object')"
      ]
     },
     "execution_count": 11,
     "metadata": {},
     "output_type": "execute_result"
    }
   ],
   "source": [
    "movies.columns"
   ]
  },
  {
   "cell_type": "code",
   "execution_count": 15,
   "id": "ca077e38",
   "metadata": {},
   "outputs": [],
   "source": [
    "# Change the Datatype of Release_Date column to Date\n",
    "\n",
    "movies['Release_Date']=pd.to_datetime(movies['Release_Date'],infer_datetime_format=True)"
   ]
  },
  {
   "cell_type": "code",
   "execution_count": 16,
   "id": "967a16d8",
   "metadata": {},
   "outputs": [
    {
     "name": "stdout",
     "output_type": "stream",
     "text": [
      "<class 'pandas.core.frame.DataFrame'>\n",
      "RangeIndex: 847 entries, 0 to 846\n",
      "Data columns (total 11 columns):\n",
      " #   Column          Non-Null Count  Dtype         \n",
      "---  ------          --------------  -----         \n",
      " 0   Index           847 non-null    int64         \n",
      " 1   Title           847 non-null    object        \n",
      " 2   Release_Date    847 non-null    datetime64[ns]\n",
      " 3   Year            847 non-null    int64         \n",
      " 4   Url             847 non-null    object        \n",
      " 5   Imdb_Rating     847 non-null    float64       \n",
      " 6   Runtime_(Mins)  847 non-null    int64         \n",
      " 7   Genres          847 non-null    object        \n",
      " 8   Num_Votes       847 non-null    int64         \n",
      " 9   Directors       847 non-null    object        \n",
      " 10  Movie_Series    847 non-null    object        \n",
      "dtypes: datetime64[ns](1), float64(1), int64(4), object(5)\n",
      "memory usage: 72.9+ KB\n"
     ]
    }
   ],
   "source": [
    "movies.info()"
   ]
  },
  {
   "cell_type": "code",
   "execution_count": 17,
   "id": "44f61c23",
   "metadata": {},
   "outputs": [
    {
     "data": {
      "text/plain": [
       "0      11\n",
       "1      11\n",
       "2       3\n",
       "3       4\n",
       "4      12\n",
       "       ..\n",
       "842     2\n",
       "843     9\n",
       "844     9\n",
       "845     9\n",
       "846     4\n",
       "Name: Month, Length: 847, dtype: int64"
      ]
     },
     "execution_count": 17,
     "metadata": {},
     "output_type": "execute_result"
    }
   ],
   "source": [
    "# Create a new column for Month\n",
    "\n",
    "movies['Month'] = movies['Release_Date'].dt.month\n",
    "movies['Month']"
   ]
  },
  {
   "cell_type": "code",
   "execution_count": 18,
   "id": "a492a9ca",
   "metadata": {},
   "outputs": [
    {
     "name": "stdout",
     "output_type": "stream",
     "text": [
      "<class 'pandas.core.frame.DataFrame'>\n",
      "RangeIndex: 847 entries, 0 to 846\n",
      "Data columns (total 12 columns):\n",
      " #   Column          Non-Null Count  Dtype         \n",
      "---  ------          --------------  -----         \n",
      " 0   Index           847 non-null    int64         \n",
      " 1   Title           847 non-null    object        \n",
      " 2   Release_Date    847 non-null    datetime64[ns]\n",
      " 3   Year            847 non-null    int64         \n",
      " 4   Url             847 non-null    object        \n",
      " 5   Imdb_Rating     847 non-null    float64       \n",
      " 6   Runtime_(Mins)  847 non-null    int64         \n",
      " 7   Genres          847 non-null    object        \n",
      " 8   Num_Votes       847 non-null    int64         \n",
      " 9   Directors       847 non-null    object        \n",
      " 10  Movie_Series    847 non-null    object        \n",
      " 11  Month           847 non-null    int64         \n",
      "dtypes: datetime64[ns](1), float64(1), int64(5), object(5)\n",
      "memory usage: 79.5+ KB\n"
     ]
    }
   ],
   "source": [
    "movies.info()"
   ]
  },
  {
   "cell_type": "code",
   "execution_count": 19,
   "id": "2e368090",
   "metadata": {},
   "outputs": [],
   "source": [
    "#Remove columns that not needed for my analysis\n",
    "\n",
    "movies.drop(['Release_Date','Url'], axis=1, inplace=True)"
   ]
  },
  {
   "cell_type": "code",
   "execution_count": 20,
   "id": "4d92fc92",
   "metadata": {},
   "outputs": [
    {
     "name": "stdout",
     "output_type": "stream",
     "text": [
      "<class 'pandas.core.frame.DataFrame'>\n",
      "RangeIndex: 847 entries, 0 to 846\n",
      "Data columns (total 10 columns):\n",
      " #   Column          Non-Null Count  Dtype  \n",
      "---  ------          --------------  -----  \n",
      " 0   Index           847 non-null    int64  \n",
      " 1   Title           847 non-null    object \n",
      " 2   Year            847 non-null    int64  \n",
      " 3   Imdb_Rating     847 non-null    float64\n",
      " 4   Runtime_(Mins)  847 non-null    int64  \n",
      " 5   Genres          847 non-null    object \n",
      " 6   Num_Votes       847 non-null    int64  \n",
      " 7   Directors       847 non-null    object \n",
      " 8   Movie_Series    847 non-null    object \n",
      " 9   Month           847 non-null    int64  \n",
      "dtypes: float64(1), int64(5), object(4)\n",
      "memory usage: 66.3+ KB\n"
     ]
    }
   ],
   "source": [
    "movies.info()"
   ]
  },
  {
   "cell_type": "markdown",
   "id": "ce3a67e7",
   "metadata": {},
   "source": [
    "# KPIs"
   ]
  },
  {
   "cell_type": "code",
   "execution_count": 21,
   "id": "8d896f88",
   "metadata": {},
   "outputs": [
    {
     "name": "stdout",
     "output_type": "stream",
     "text": [
      "The Total Number of Movie Series is --> 375\n"
     ]
    }
   ],
   "source": [
    "# Total Number of unique Movie Series\n",
    "\n",
    "Total_Movie_Series = len(movies.Movie_Series.value_counts())\n",
    "print(f\"The Total Number of Movie Series is --> {Total_Movie_Series}\")"
   ]
  },
  {
   "cell_type": "code",
   "execution_count": 22,
   "id": "928381a0",
   "metadata": {},
   "outputs": [
    {
     "name": "stdout",
     "output_type": "stream",
     "text": [
      "The Total Number of Movie Genres is --> 245\n"
     ]
    }
   ],
   "source": [
    "# Total Number of unique Movie Genres\n",
    "\n",
    "Total_Movie_Genres = len(movies.Genres.value_counts())\n",
    "print(f\"The Total Number of Movie Genres is --> {Total_Movie_Genres}\")"
   ]
  },
  {
   "cell_type": "code",
   "execution_count": 23,
   "id": "bf534f82",
   "metadata": {},
   "outputs": [
    {
     "name": "stdout",
     "output_type": "stream",
     "text": [
      "The Total Number of Movie Titles is --> 838\n"
     ]
    }
   ],
   "source": [
    "# Total Number of unique Movie Titles\n",
    "\n",
    "Total_Movie_Titles = len(movies.Title.value_counts())\n",
    "print(f\"The Total Number of Movie Titles is --> {Total_Movie_Titles}\")"
   ]
  },
  {
   "cell_type": "markdown",
   "id": "be55bfad",
   "metadata": {},
   "source": [
    "# Data Analysis and Visualisation"
   ]
  },
  {
   "cell_type": "markdown",
   "id": "c6fae698",
   "metadata": {},
   "source": [
    "## Question 1: Which Movie Genres has the highest number of votes"
   ]
  },
  {
   "cell_type": "code",
   "execution_count": 24,
   "id": "290b2784",
   "metadata": {
    "scrolled": true
   },
   "outputs": [],
   "source": [
    "movies_sorted = movies.sort_values('Num_Votes', ascending=False)"
   ]
  },
  {
   "cell_type": "code",
   "execution_count": 25,
   "id": "44a98df8",
   "metadata": {},
   "outputs": [
    {
     "data": {
      "text/html": [
       "<div>\n",
       "<style scoped>\n",
       "    .dataframe tbody tr th:only-of-type {\n",
       "        vertical-align: middle;\n",
       "    }\n",
       "\n",
       "    .dataframe tbody tr th {\n",
       "        vertical-align: top;\n",
       "    }\n",
       "\n",
       "    .dataframe thead th {\n",
       "        text-align: right;\n",
       "    }\n",
       "</style>\n",
       "<table border=\"1\" class=\"dataframe\">\n",
       "  <thead>\n",
       "    <tr style=\"text-align: right;\">\n",
       "      <th></th>\n",
       "      <th>Index</th>\n",
       "      <th>Title</th>\n",
       "      <th>Year</th>\n",
       "      <th>Imdb_Rating</th>\n",
       "      <th>Runtime_(Mins)</th>\n",
       "      <th>Genres</th>\n",
       "      <th>Num_Votes</th>\n",
       "      <th>Directors</th>\n",
       "      <th>Movie_Series</th>\n",
       "      <th>Month</th>\n",
       "    </tr>\n",
       "  </thead>\n",
       "  <tbody>\n",
       "    <tr>\n",
       "      <th>84</th>\n",
       "      <td>85</td>\n",
       "      <td>The Dark Knight</td>\n",
       "      <td>2008</td>\n",
       "      <td>9.0</td>\n",
       "      <td>152</td>\n",
       "      <td>Action, Crime, Drama, Thriller</td>\n",
       "      <td>2220190</td>\n",
       "      <td>Christopher Nolan</td>\n",
       "      <td>Batman</td>\n",
       "      <td>7</td>\n",
       "    </tr>\n",
       "    <tr>\n",
       "      <th>700</th>\n",
       "      <td>701</td>\n",
       "      <td>The Matrix</td>\n",
       "      <td>1999</td>\n",
       "      <td>8.7</td>\n",
       "      <td>136</td>\n",
       "      <td>Action, Sci-Fi</td>\n",
       "      <td>1615984</td>\n",
       "      <td>Lilly Wachowski, Lana Wachowski</td>\n",
       "      <td>The Matrix</td>\n",
       "      <td>3</td>\n",
       "    </tr>\n",
       "    <tr>\n",
       "      <th>692</th>\n",
       "      <td>693</td>\n",
       "      <td>The Lord of the Rings: The Fellowship of the Ring</td>\n",
       "      <td>2001</td>\n",
       "      <td>8.8</td>\n",
       "      <td>178</td>\n",
       "      <td>Action, Adventure, Drama, Fantasy</td>\n",
       "      <td>1605080</td>\n",
       "      <td>Peter Jackson</td>\n",
       "      <td>The Lord of the Rings</td>\n",
       "      <td>10</td>\n",
       "    </tr>\n",
       "    <tr>\n",
       "      <th>694</th>\n",
       "      <td>695</td>\n",
       "      <td>The Lord of the Rings: The Return of the King</td>\n",
       "      <td>2003</td>\n",
       "      <td>8.9</td>\n",
       "      <td>201</td>\n",
       "      <td>Adventure, Drama, Fantasy</td>\n",
       "      <td>1590756</td>\n",
       "      <td>Peter Jackson</td>\n",
       "      <td>The Lord of the Rings</td>\n",
       "      <td>1</td>\n",
       "    </tr>\n",
       "    <tr>\n",
       "      <th>658</th>\n",
       "      <td>659</td>\n",
       "      <td>The Godfather</td>\n",
       "      <td>1972</td>\n",
       "      <td>9.2</td>\n",
       "      <td>175</td>\n",
       "      <td>Crime, Drama</td>\n",
       "      <td>1554770</td>\n",
       "      <td>Francis Ford Coppola</td>\n",
       "      <td>The Godfather</td>\n",
       "      <td>3</td>\n",
       "    </tr>\n",
       "  </tbody>\n",
       "</table>\n",
       "</div>"
      ],
      "text/plain": [
       "     Index                                              Title  Year  \\\n",
       "84      85                                    The Dark Knight  2008   \n",
       "700    701                                         The Matrix  1999   \n",
       "692    693  The Lord of the Rings: The Fellowship of the Ring  2001   \n",
       "694    695      The Lord of the Rings: The Return of the King  2003   \n",
       "658    659                                      The Godfather  1972   \n",
       "\n",
       "     Imdb_Rating  Runtime_(Mins)                             Genres  \\\n",
       "84           9.0             152     Action, Crime, Drama, Thriller   \n",
       "700          8.7             136                     Action, Sci-Fi   \n",
       "692          8.8             178  Action, Adventure, Drama, Fantasy   \n",
       "694          8.9             201          Adventure, Drama, Fantasy   \n",
       "658          9.2             175                       Crime, Drama   \n",
       "\n",
       "     Num_Votes                        Directors           Movie_Series  Month  \n",
       "84     2220190                Christopher Nolan                 Batman      7  \n",
       "700    1615984  Lilly Wachowski, Lana Wachowski             The Matrix      3  \n",
       "692    1605080                    Peter Jackson  The Lord of the Rings     10  \n",
       "694    1590756                    Peter Jackson  The Lord of the Rings      1  \n",
       "658    1554770             Francis Ford Coppola          The Godfather      3  "
      ]
     },
     "execution_count": 25,
     "metadata": {},
     "output_type": "execute_result"
    }
   ],
   "source": [
    "top_movies = movies_sorted.head(5)\n",
    "top_movies"
   ]
  },
  {
   "cell_type": "code",
   "execution_count": 29,
   "id": "d706e90a",
   "metadata": {},
   "outputs": [
    {
     "data": {
      "image/png": "[encoded data removed]",
      "text/plain": [
       "<Figure size 640x480 with 1 Axes>"
      ]
     },
     "metadata": {},
     "output_type": "display_data"
    }
   ],
   "source": [
    "plt.barh(top_movies.Genres, top_movies.Num_Votes,color=['b','gray','gray','gray','gray'], height=0.7)\n",
    "plt.title('Top Movie Genres with the highest Number of votes', fontsize=17, pad=20)\n",
    "plt.xlabel('Number of votes', fontsize=13, labelpad=20)\n",
    "plt.ylabel('Genres', fontsize=13, labelpad=20)\n",
    "plt.yticks(fontsize=7)\n",
    "plt.xticks(fontsize=7)\n",
    "plt.show();\n"
   ]
  },
  {
   "cell_type": "markdown",
   "id": "add1a5c6",
   "metadata": {},
   "source": [
    "### Answer:  Action, Crime, Drama, Thriller Genres has the highest number of votes"
   ]
  },
  {
   "cell_type": "markdown",
   "id": "34f2e82b",
   "metadata": {},
   "source": [
    "## Question 2: Which Movie Series is the longest?"
   ]
  },
  {
   "cell_type": "code",
   "execution_count": 30,
   "id": "cae39b4f",
   "metadata": {},
   "outputs": [
    {
     "data": {
      "text/html": [
       "<div>\n",
       "<style scoped>\n",
       "    .dataframe tbody tr th:only-of-type {\n",
       "        vertical-align: middle;\n",
       "    }\n",
       "\n",
       "    .dataframe tbody tr th {\n",
       "        vertical-align: top;\n",
       "    }\n",
       "\n",
       "    .dataframe thead th {\n",
       "        text-align: right;\n",
       "    }\n",
       "</style>\n",
       "<table border=\"1\" class=\"dataframe\">\n",
       "  <thead>\n",
       "    <tr style=\"text-align: right;\">\n",
       "      <th></th>\n",
       "      <th>Index</th>\n",
       "      <th>Title</th>\n",
       "      <th>Year</th>\n",
       "      <th>Imdb_Rating</th>\n",
       "      <th>Runtime_(Mins)</th>\n",
       "      <th>Genres</th>\n",
       "      <th>Num_Votes</th>\n",
       "      <th>Directors</th>\n",
       "      <th>Movie_Series</th>\n",
       "      <th>Month</th>\n",
       "    </tr>\n",
       "  </thead>\n",
       "  <tbody>\n",
       "    <tr>\n",
       "      <th>659</th>\n",
       "      <td>660</td>\n",
       "      <td>The Godfather: Part II</td>\n",
       "      <td>1974</td>\n",
       "      <td>9.0</td>\n",
       "      <td>202</td>\n",
       "      <td>Crime, Drama</td>\n",
       "      <td>1086630</td>\n",
       "      <td>Francis Ford Coppola</td>\n",
       "      <td>The Godfather</td>\n",
       "      <td>12</td>\n",
       "    </tr>\n",
       "    <tr>\n",
       "      <th>694</th>\n",
       "      <td>695</td>\n",
       "      <td>The Lord of the Rings: The Return of the King</td>\n",
       "      <td>2003</td>\n",
       "      <td>8.9</td>\n",
       "      <td>201</td>\n",
       "      <td>Adventure, Drama, Fantasy</td>\n",
       "      <td>1590756</td>\n",
       "      <td>Peter Jackson</td>\n",
       "      <td>The Lord of the Rings</td>\n",
       "      <td>1</td>\n",
       "    </tr>\n",
       "    <tr>\n",
       "      <th>602</th>\n",
       "      <td>603</td>\n",
       "      <td>Avengers: Endgame</td>\n",
       "      <td>2019</td>\n",
       "      <td>8.4</td>\n",
       "      <td>181</td>\n",
       "      <td>Action, Adventure, Drama, Sci-Fi</td>\n",
       "      <td>730547</td>\n",
       "      <td>Anthony Russo, Joe Russo</td>\n",
       "      <td>The Avengers</td>\n",
       "      <td>4</td>\n",
       "    </tr>\n",
       "  </tbody>\n",
       "</table>\n",
       "</div>"
      ],
      "text/plain": [
       "     Index                                          Title  Year  Imdb_Rating  \\\n",
       "659    660                         The Godfather: Part II  1974          9.0   \n",
       "694    695  The Lord of the Rings: The Return of the King  2003          8.9   \n",
       "602    603                              Avengers: Endgame  2019          8.4   \n",
       "\n",
       "     Runtime_(Mins)                            Genres  Num_Votes  \\\n",
       "659             202                      Crime, Drama    1086630   \n",
       "694             201         Adventure, Drama, Fantasy    1590756   \n",
       "602             181  Action, Adventure, Drama, Sci-Fi     730547   \n",
       "\n",
       "                    Directors           Movie_Series  Month  \n",
       "659      Francis Ford Coppola          The Godfather     12  \n",
       "694             Peter Jackson  The Lord of the Rings      1  \n",
       "602  Anthony Russo, Joe Russo           The Avengers      4  "
      ]
     },
     "execution_count": 30,
     "metadata": {},
     "output_type": "execute_result"
    }
   ],
   "source": [
    "longest_series = movies.sort_values('Runtime_(Mins)', ascending=False)\n",
    "longest = longest_series.head(3)\n",
    "longest"
   ]
  },
  {
   "cell_type": "code",
   "execution_count": 31,
   "id": "85e10051",
   "metadata": {},
   "outputs": [
    {
     "data": {
      "image/png": "[encoded data removed]",
      "text/plain": [
       "<Figure size 640x480 with 1 Axes>"
      ]
     },
     "metadata": {},
     "output_type": "display_data"
    }
   ],
   "source": [
    "m= longest['Movie_Series']\n",
    "p=longest['Runtime_(Mins)']\n",
    "plt.bar(m, p, color=['b','gray','gray'])\n",
    "plt.title('Top Movie Series with the highest Runtime_(Mins)',fontsize=17,pad=20)\n",
    "plt.xlabel('Movie Series',fontsize=13,labelpad=20)\n",
    "plt.ylabel('Runtime_(Mins)',fontsize=13,labelpad=20)\n",
    "plt.yticks(fontsize=7)\n",
    "plt.xticks(fontsize=7)\n",
    "for i, v in enumerate(p):\n",
    "    plt.text(i, v, str(v), ha='center', va='bottom')\n",
    "plt.show()"
   ]
  },
  {
   "cell_type": "markdown",
   "id": "9ed19d85",
   "metadata": {},
   "source": [
    "### The Godfather movie series is the longest with runtime of 202 mins"
   ]
  },
  {
   "cell_type": "markdown",
   "id": "7986632f",
   "metadata": {},
   "source": [
    "## Question 3: Which Year has the highest number of movie released?"
   ]
  },
  {
   "cell_type": "code",
   "execution_count": 32,
   "id": "429fa9be",
   "metadata": {},
   "outputs": [
    {
     "data": {
      "text/plain": [
       "Year\n",
       "2011    40\n",
       "2014    36\n",
       "2012    34\n",
       "2004    34\n",
       "2003    34\n",
       "Name: Index, dtype: int64"
      ]
     },
     "execution_count": 32,
     "metadata": {},
     "output_type": "execute_result"
    }
   ],
   "source": [
    "movies.groupby('Year')['Index'].count().sort_values(ascending=False).head()"
   ]
  },
  {
   "cell_type": "code",
   "execution_count": 46,
   "id": "d686a273",
   "metadata": {},
   "outputs": [
    {
     "data": {
      "image/png": "[encoded data removed]",
      "text/plain": [
       "<Figure size 640x480 with 1 Axes>"
      ]
     },
     "metadata": {},
     "output_type": "display_data"
    }
   ],
   "source": [
    "movies.groupby('Year')['Index'].count().sort_values(ascending=False).head().plot(kind='bar', color=['b','gray','gray','gray','gray'])\n",
    "plt.title('Top Movies Released Count by Year', pad=15, fontsize=17)\n",
    "plt.xlabel('Year', labelpad=13, fontsize=13)\n",
    "plt.ylabel('Number of Movies released',labelpad=10, fontsize=13)\n",
    "plt.yticks(fontsize=7)\n",
    "plt.xticks(fontsize=7)\n",
    "plt.show()"
   ]
  },
  {
   "cell_type": "markdown",
   "id": "5130d8e9",
   "metadata": {},
   "source": [
    "### In 2011, a total of 40 Movies was released which is the highest"
   ]
  },
  {
   "cell_type": "markdown",
   "id": "dab9aa3e",
   "metadata": {},
   "source": [
    "## Question 4: Which Month has the highest number of movie released?"
   ]
  },
  {
   "cell_type": "code",
   "execution_count": 35,
   "id": "a4126ae3",
   "metadata": {},
   "outputs": [
    {
     "data": {
      "text/plain": [
       "Month\n",
       "1      57\n",
       "2      39\n",
       "3      74\n",
       "4      59\n",
       "5      84\n",
       "6     101\n",
       "7      77\n",
       "8      81\n",
       "9      62\n",
       "10     78\n",
       "11     64\n",
       "12     71\n",
       "Name: Index, dtype: int64"
      ]
     },
     "execution_count": 35,
     "metadata": {},
     "output_type": "execute_result"
    }
   ],
   "source": [
    "movies.groupby('Month')['Index'].count()"
   ]
  },
  {
   "cell_type": "code",
   "execution_count": 36,
   "id": "27e76195",
   "metadata": {},
   "outputs": [
    {
     "data": {
      "image/png": "[encoded data removed]",
      "text/plain": [
       "<Figure size 640x480 with 1 Axes>"
      ]
     },
     "metadata": {},
     "output_type": "display_data"
    }
   ],
   "source": [
    "movies.groupby('Month')['Index'].count().plot(kind='bar',color=['gray','gray','gray','gray','gray','b','gray','gray','gray','gray','gray','gray'])\n",
    "plt.title('Movie Release Count by Month', pad=15, fontsize=17)\n",
    "plt.xlabel('Month', labelpad=13, fontsize=13)\n",
    "plt.ylabel('Number of movies released',labelpad=10, fontsize=13)\n",
    "plt.yticks(fontsize=7)\n",
    "plt.xticks(fontsize=7)\n",
    "plt.show()"
   ]
  },
  {
   "cell_type": "markdown",
   "id": "b598620c",
   "metadata": {},
   "source": [
    "### The 6th month which is June is the month with the highest number of movie releases"
   ]
  },
  {
   "cell_type": "markdown",
   "id": "0982d48e",
   "metadata": {},
   "source": [
    "## Question 5: Top 5 Movie Series"
   ]
  },
  {
   "cell_type": "code",
   "execution_count": 37,
   "id": "136e7434",
   "metadata": {},
   "outputs": [
    {
     "data": {
      "text/plain": [
       "Star Trek          13\n",
       "Halloween          11\n",
       "Friday the 13th     9\n",
       "Harry Potter        8\n",
       "Batman              7\n",
       "Name: Movie_Series, dtype: int64"
      ]
     },
     "execution_count": 37,
     "metadata": {},
     "output_type": "execute_result"
    }
   ],
   "source": [
    "movies['Movie_Series'].value_counts().head()"
   ]
  },
  {
   "cell_type": "code",
   "execution_count": 38,
   "id": "ed389a65",
   "metadata": {},
   "outputs": [
    {
     "data": {
      "image/png": "[encoded data removed]",
      "text/plain": [
       "<Figure size 640x480 with 1 Axes>"
      ]
     },
     "metadata": {},
     "output_type": "display_data"
    },
    {
     "data": {
      "text/plain": [
       "''"
      ]
     },
     "execution_count": 38,
     "metadata": {},
     "output_type": "execute_result"
    }
   ],
   "source": [
    "movies['Movie_Series'].value_counts().head().plot(kind='barh', color='b')\n",
    "plt.title('Top 5 Movie Series', pad=15, fontsize=17)\n",
    "plt.ylabel('Movie Series',labelpad=10, fontsize=13)\n",
    "plt.yticks(fontsize=7)\n",
    "plt.show()\n",
    ";"
   ]
  },
  {
   "cell_type": "markdown",
   "id": "5a99501f",
   "metadata": {},
   "source": [
    "### From the top 5, Star Trek is the most produced movie series"
   ]
  },
  {
   "cell_type": "markdown",
   "id": "295bbe02",
   "metadata": {},
   "source": [
    "## Question 6: Top 3 Movie Directors"
   ]
  },
  {
   "cell_type": "code",
   "execution_count": 39,
   "id": "31dbfda9",
   "metadata": {},
   "outputs": [
    {
     "data": {
      "text/plain": [
       "Wes Craven     8\n",
       "Michael Bay    7\n",
       "Sam Raimi      7\n",
       "Name: Directors, dtype: int64"
      ]
     },
     "execution_count": 39,
     "metadata": {},
     "output_type": "execute_result"
    }
   ],
   "source": [
    "movies['Directors'].value_counts().head(3)"
   ]
  },
  {
   "cell_type": "code",
   "execution_count": 40,
   "id": "b81fbf7e",
   "metadata": {},
   "outputs": [
    {
     "data": {
      "image/png": "[encoded data removed]",
      "text/plain": [
       "<Figure size 640x480 with 1 Axes>"
      ]
     },
     "metadata": {},
     "output_type": "display_data"
    }
   ],
   "source": [
    "movies['Directors'].value_counts().head(3).plot(kind='bar', color='b')\n",
    "plt.title('Top 3 Movie Directors', pad=15, fontsize=17)\n",
    "plt.xlabel('Movie Series',labelpad=13, fontsize=13)\n",
    "plt.xticks(fontsize=7)\n",
    "plt.show();"
   ]
  },
  {
   "cell_type": "markdown",
   "id": "85f2fcf6",
   "metadata": {},
   "source": [
    "## Question 7: Which Movie Title has the lowest and highest ratings?"
   ]
  },
  {
   "cell_type": "code",
   "execution_count": 41,
   "id": "6daa49ac",
   "metadata": {},
   "outputs": [
    {
     "data": {
      "text/html": [
       "<div>\n",
       "<style scoped>\n",
       "    .dataframe tbody tr th:only-of-type {\n",
       "        vertical-align: middle;\n",
       "    }\n",
       "\n",
       "    .dataframe tbody tr th {\n",
       "        vertical-align: top;\n",
       "    }\n",
       "\n",
       "    .dataframe thead th {\n",
       "        text-align: right;\n",
       "    }\n",
       "</style>\n",
       "<table border=\"1\" class=\"dataframe\">\n",
       "  <thead>\n",
       "    <tr style=\"text-align: right;\">\n",
       "      <th></th>\n",
       "      <th>Index</th>\n",
       "      <th>Title</th>\n",
       "      <th>Year</th>\n",
       "      <th>Imdb_Rating</th>\n",
       "      <th>Runtime_(Mins)</th>\n",
       "      <th>Genres</th>\n",
       "      <th>Num_Votes</th>\n",
       "      <th>Directors</th>\n",
       "      <th>Movie_Series</th>\n",
       "      <th>Month</th>\n",
       "    </tr>\n",
       "  </thead>\n",
       "  <tbody>\n",
       "    <tr>\n",
       "      <th>278</th>\n",
       "      <td>279</td>\n",
       "      <td>Hellraiser: Revelations</td>\n",
       "      <td>2011</td>\n",
       "      <td>2.7</td>\n",
       "      <td>75</td>\n",
       "      <td>Horror</td>\n",
       "      <td>6760</td>\n",
       "      <td>VÃ­ctor GarcÃ­a</td>\n",
       "      <td>Hellraiser</td>\n",
       "      <td>3</td>\n",
       "    </tr>\n",
       "    <tr>\n",
       "      <th>357</th>\n",
       "      <td>358</td>\n",
       "      <td>Lawnmower Man 2: Beyond Cyberspace</td>\n",
       "      <td>1996</td>\n",
       "      <td>2.5</td>\n",
       "      <td>93</td>\n",
       "      <td>Action, Sci-Fi, Thriller</td>\n",
       "      <td>8836</td>\n",
       "      <td>Farhad Mann</td>\n",
       "      <td>Lawnmower Man</td>\n",
       "      <td>12</td>\n",
       "    </tr>\n",
       "    <tr>\n",
       "      <th>37</th>\n",
       "      <td>38</td>\n",
       "      <td>Alone in the Dark</td>\n",
       "      <td>2005</td>\n",
       "      <td>2.4</td>\n",
       "      <td>96</td>\n",
       "      <td>Action, Horror, Sci-Fi</td>\n",
       "      <td>41244</td>\n",
       "      <td>Uwe Boll</td>\n",
       "      <td>Alone in the Dark</td>\n",
       "      <td>1</td>\n",
       "    </tr>\n",
       "    <tr>\n",
       "      <th>697</th>\n",
       "      <td>698</td>\n",
       "      <td>Son of the Mask</td>\n",
       "      <td>2005</td>\n",
       "      <td>2.2</td>\n",
       "      <td>94</td>\n",
       "      <td>Comedy, Family, Fantasy</td>\n",
       "      <td>51274</td>\n",
       "      <td>Lawrence Guterman</td>\n",
       "      <td>The Mask</td>\n",
       "      <td>11</td>\n",
       "    </tr>\n",
       "    <tr>\n",
       "      <th>112</th>\n",
       "      <td>113</td>\n",
       "      <td>Revenge of the Boogeyman</td>\n",
       "      <td>1983</td>\n",
       "      <td>2.0</td>\n",
       "      <td>79</td>\n",
       "      <td>Horror</td>\n",
       "      <td>915</td>\n",
       "      <td>Paul Willson, Ulli Lommel, Bruce Pearn</td>\n",
       "      <td>Boogeyman</td>\n",
       "      <td>8</td>\n",
       "    </tr>\n",
       "  </tbody>\n",
       "</table>\n",
       "</div>"
      ],
      "text/plain": [
       "     Index                               Title  Year  Imdb_Rating  \\\n",
       "278    279             Hellraiser: Revelations  2011          2.7   \n",
       "357    358  Lawnmower Man 2: Beyond Cyberspace  1996          2.5   \n",
       "37      38                   Alone in the Dark  2005          2.4   \n",
       "697    698                     Son of the Mask  2005          2.2   \n",
       "112    113            Revenge of the Boogeyman  1983          2.0   \n",
       "\n",
       "     Runtime_(Mins)                    Genres  Num_Votes  \\\n",
       "278              75                    Horror       6760   \n",
       "357              93  Action, Sci-Fi, Thriller       8836   \n",
       "37               96    Action, Horror, Sci-Fi      41244   \n",
       "697              94   Comedy, Family, Fantasy      51274   \n",
       "112              79                    Horror        915   \n",
       "\n",
       "                                  Directors       Movie_Series  Month  \n",
       "278                         VÃ­ctor GarcÃ­a         Hellraiser      3  \n",
       "357                             Farhad Mann      Lawnmower Man     12  \n",
       "37                                 Uwe Boll  Alone in the Dark      1  \n",
       "697                       Lawrence Guterman           The Mask     11  \n",
       "112  Paul Willson, Ulli Lommel, Bruce Pearn          Boogeyman      8  "
      ]
     },
     "execution_count": 41,
     "metadata": {},
     "output_type": "execute_result"
    }
   ],
   "source": [
    "low_rating = movies.sort_values('Imdb_Rating', ascending=False).tail()\n",
    "low_rating"
   ]
  },
  {
   "cell_type": "code",
   "execution_count": 42,
   "id": "c11df0b3",
   "metadata": {},
   "outputs": [
    {
     "data": {
      "image/png": "[encoded data removed]",
      "text/plain": [
       "<Figure size 640x480 with 1 Axes>"
      ]
     },
     "metadata": {},
     "output_type": "display_data"
    }
   ],
   "source": [
    "plt.barh(low_rating.Title,low_rating.Imdb_Rating,color=['gray','gray','gray','gray','b'])\n",
    "plt.title('Movie Titles with the lowest Ratings', pad=15, fontsize=17)\n",
    "plt.xlabel('Ratings', labelpad=13, fontsize=13)\n",
    "plt.ylabel('Movie Title', labelpad=19, fontsize=13)\n",
    "plt.yticks(fontsize=7)\n",
    "plt.xticks(fontsize=7)\n",
    "plt.show();"
   ]
  },
  {
   "cell_type": "markdown",
   "id": "2f289157",
   "metadata": {},
   "source": [
    "### Answer: Revenge of the Boogeyman is the movie title with the lowest rating "
   ]
  },
  {
   "cell_type": "code",
   "execution_count": 44,
   "id": "a8ab2b15",
   "metadata": {},
   "outputs": [
    {
     "data": {
      "text/html": [
       "<div>\n",
       "<style scoped>\n",
       "    .dataframe tbody tr th:only-of-type {\n",
       "        vertical-align: middle;\n",
       "    }\n",
       "\n",
       "    .dataframe tbody tr th {\n",
       "        vertical-align: top;\n",
       "    }\n",
       "\n",
       "    .dataframe thead th {\n",
       "        text-align: right;\n",
       "    }\n",
       "</style>\n",
       "<table border=\"1\" class=\"dataframe\">\n",
       "  <thead>\n",
       "    <tr style=\"text-align: right;\">\n",
       "      <th></th>\n",
       "      <th>Index</th>\n",
       "      <th>Title</th>\n",
       "      <th>Year</th>\n",
       "      <th>Imdb_Rating</th>\n",
       "      <th>Runtime_(Mins)</th>\n",
       "      <th>Genres</th>\n",
       "      <th>Num_Votes</th>\n",
       "      <th>Directors</th>\n",
       "      <th>Movie_Series</th>\n",
       "      <th>Month</th>\n",
       "    </tr>\n",
       "  </thead>\n",
       "  <tbody>\n",
       "    <tr>\n",
       "      <th>658</th>\n",
       "      <td>659</td>\n",
       "      <td>The Godfather</td>\n",
       "      <td>1972</td>\n",
       "      <td>9.2</td>\n",
       "      <td>175</td>\n",
       "      <td>Crime, Drama</td>\n",
       "      <td>1554770</td>\n",
       "      <td>Francis Ford Coppola</td>\n",
       "      <td>The Godfather</td>\n",
       "      <td>3</td>\n",
       "    </tr>\n",
       "    <tr>\n",
       "      <th>84</th>\n",
       "      <td>85</td>\n",
       "      <td>The Dark Knight</td>\n",
       "      <td>2008</td>\n",
       "      <td>9.0</td>\n",
       "      <td>152</td>\n",
       "      <td>Action, Crime, Drama, Thriller</td>\n",
       "      <td>2220190</td>\n",
       "      <td>Christopher Nolan</td>\n",
       "      <td>Batman</td>\n",
       "      <td>7</td>\n",
       "    </tr>\n",
       "    <tr>\n",
       "      <th>659</th>\n",
       "      <td>660</td>\n",
       "      <td>The Godfather: Part II</td>\n",
       "      <td>1974</td>\n",
       "      <td>9.0</td>\n",
       "      <td>202</td>\n",
       "      <td>Crime, Drama</td>\n",
       "      <td>1086630</td>\n",
       "      <td>Francis Ford Coppola</td>\n",
       "      <td>The Godfather</td>\n",
       "      <td>12</td>\n",
       "    </tr>\n",
       "    <tr>\n",
       "      <th>694</th>\n",
       "      <td>695</td>\n",
       "      <td>The Lord of the Rings: The Return of the King</td>\n",
       "      <td>2003</td>\n",
       "      <td>8.9</td>\n",
       "      <td>201</td>\n",
       "      <td>Adventure, Drama, Fantasy</td>\n",
       "      <td>1590756</td>\n",
       "      <td>Peter Jackson</td>\n",
       "      <td>The Lord of the Rings</td>\n",
       "      <td>1</td>\n",
       "    </tr>\n",
       "    <tr>\n",
       "      <th>692</th>\n",
       "      <td>693</td>\n",
       "      <td>The Lord of the Rings: The Fellowship of the Ring</td>\n",
       "      <td>2001</td>\n",
       "      <td>8.8</td>\n",
       "      <td>178</td>\n",
       "      <td>Action, Adventure, Drama, Fantasy</td>\n",
       "      <td>1605080</td>\n",
       "      <td>Peter Jackson</td>\n",
       "      <td>The Lord of the Rings</td>\n",
       "      <td>10</td>\n",
       "    </tr>\n",
       "  </tbody>\n",
       "</table>\n",
       "</div>"
      ],
      "text/plain": [
       "     Index                                              Title  Year  \\\n",
       "658    659                                      The Godfather  1972   \n",
       "84      85                                    The Dark Knight  2008   \n",
       "659    660                             The Godfather: Part II  1974   \n",
       "694    695      The Lord of the Rings: The Return of the King  2003   \n",
       "692    693  The Lord of the Rings: The Fellowship of the Ring  2001   \n",
       "\n",
       "     Imdb_Rating  Runtime_(Mins)                             Genres  \\\n",
       "658          9.2             175                       Crime, Drama   \n",
       "84           9.0             152     Action, Crime, Drama, Thriller   \n",
       "659          9.0             202                       Crime, Drama   \n",
       "694          8.9             201          Adventure, Drama, Fantasy   \n",
       "692          8.8             178  Action, Adventure, Drama, Fantasy   \n",
       "\n",
       "     Num_Votes             Directors           Movie_Series  Month  \n",
       "658    1554770  Francis Ford Coppola          The Godfather      3  \n",
       "84     2220190     Christopher Nolan                 Batman      7  \n",
       "659    1086630  Francis Ford Coppola          The Godfather     12  \n",
       "694    1590756         Peter Jackson  The Lord of the Rings      1  \n",
       "692    1605080         Peter Jackson  The Lord of the Rings     10  "
      ]
     },
     "execution_count": 44,
     "metadata": {},
     "output_type": "execute_result"
    }
   ],
   "source": [
    "high_rating = movies.sort_values('Imdb_Rating', ascending=False).head()\n",
    "high_rating"
   ]
  },
  {
   "cell_type": "code",
   "execution_count": 45,
   "id": "bd442960",
   "metadata": {},
   "outputs": [
    {
     "data": {
      "image/png": "[encoded data removed]",
      "text/plain": [
       "<Figure size 640x480 with 1 Axes>"
      ]
     },
     "metadata": {},
     "output_type": "display_data"
    }
   ],
   "source": [
    "plt.barh(high_rating.Title,high_rating.Imdb_Rating,color=['b','gray','gray','gray','gray'])\n",
    "plt.title('Movie Titles with the Highest Ratings', pad=15, fontsize=17)\n",
    "plt.xlabel('Ratings', labelpad=13, fontsize=13)\n",
    "plt.ylabel('Movie Title',labelpad=19, fontsize=13)\n",
    "plt.yticks(fontsize=7)\n",
    "plt.xticks(fontsize=7)\n",
    "plt.show();"
   ]
  },
  {
   "cell_type": "markdown",
   "id": "e52929e8",
   "metadata": {},
   "source": [
    "### Answer: The Godfather is the movie title with the highest rating"
   ]
  }
 ],
 "metadata": {
  "kernelspec": {
   "display_name": "Python 3 (ipykernel)",
   "language": "python",
   "name": "python3"
  },
  "language_info": {
   "codemirror_mode": {
    "name": "ipython",
    "version": 3
   },
   "file_extension": ".py",
   "mimetype": "text/x-python",
   "name": "python",
   "nbconvert_exporter": "python",
   "pygments_lexer": "ipython3",
   "version": "3.9.13"
  }
 },
 "nbformat": 4,
 "nbformat_minor": 5
}
